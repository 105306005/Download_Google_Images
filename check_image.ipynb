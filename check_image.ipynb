{
 "cells": [
  {
   "cell_type": "code",
   "execution_count": 12,
   "id": "bc5c99e3",
   "metadata": {},
   "outputs": [],
   "source": [
    "import os\n",
    "from PIL import Image\n",
    "from IPython.display import display\n",
    "import warnings\n",
    "\n",
    "# ignore harmless warnings\n",
    "warnings.filterwarnings(\"ignore\")"
   ]
  },
  {
   "cell_type": "code",
   "execution_count": 13,
   "id": "1f401d36",
   "metadata": {},
   "outputs": [
    {
     "name": "stdout",
     "output_type": "stream",
     "text": [
      "2139\n"
     ]
    }
   ],
   "source": [
    "path = \"laundry_room\" # insert folder name\n",
    "img_names = []\n",
    "for folder, subfolders, filenames in os.walk(path):   \n",
    "    \n",
    "    for img in filenames:\n",
    "        img_names.append(folder +  '/' +  img)\n",
    "        \n",
    "print(len(img_names))"
   ]
  },
  {
   "cell_type": "code",
   "execution_count": 14,
   "id": "008a1709",
   "metadata": {},
   "outputs": [],
   "source": [
    "img_sizes = []\n",
    "rejected = []\n",
    "\n",
    "for item in img_names:\n",
    "    try: \n",
    "        with Image.open(item) as img:\n",
    "            img_sizes.append(img.size)\n",
    "    except:\n",
    "        rejected.append(item)"
   ]
  },
  {
   "cell_type": "code",
   "execution_count": 15,
   "id": "0009488d",
   "metadata": {},
   "outputs": [
    {
     "name": "stdout",
     "output_type": "stream",
     "text": [
      "2138\n",
      "1\n"
     ]
    }
   ],
   "source": [
    "print(len(img_sizes))\n",
    "print(len(rejected))"
   ]
  },
  {
   "cell_type": "code",
   "execution_count": 16,
   "id": "82e2286e",
   "metadata": {},
   "outputs": [
    {
     "name": "stdout",
     "output_type": "stream",
     "text": [
      "['laundry_room/.DS_Store']\n"
     ]
    }
   ],
   "source": [
    "print(rejected)"
   ]
  },
  {
   "cell_type": "code",
   "execution_count": null,
   "id": "1658a6ee",
   "metadata": {},
   "outputs": [],
   "source": []
  }
 ],
 "metadata": {
  "kernelspec": {
   "display_name": "Python 3 (ipykernel)",
   "language": "python",
   "name": "python3"
  },
  "language_info": {
   "codemirror_mode": {
    "name": "ipython",
    "version": 3
   },
   "file_extension": ".py",
   "mimetype": "text/x-python",
   "name": "python",
   "nbconvert_exporter": "python",
   "pygments_lexer": "ipython3",
   "version": "3.7.11"
  }
 },
 "nbformat": 4,
 "nbformat_minor": 5
}
